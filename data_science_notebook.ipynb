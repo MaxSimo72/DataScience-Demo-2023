{
  "nbformat": 4,
  "nbformat_minor": 0,
  "metadata": {
    "colab": {
      "provenance": [],
      "authorship_tag": "ABX9TyO7O25q8VZJZ1R2gvr/8Xrs",
      "include_colab_link": true
    },
    "kernelspec": {
      "name": "python3",
      "display_name": "Python 3"
    },
    "language_info": {
      "name": "python"
    }
  },
  "cells": [
    {
      "cell_type": "markdown",
      "metadata": {
        "id": "view-in-github",
        "colab_type": "text"
      },
      "source": [
        "<a href=\"https://colab.research.google.com/github/MaxSimo72/DataScience-Demo-2023/blob/main/data_science_notebook.ipynb\" target=\"_parent\"><img src=\"https://colab.research.google.com/assets/colab-badge.svg\" alt=\"Open In Colab\"/></a>"
      ]
    },
    {
      "cell_type": "markdown",
      "source": [],
      "metadata": {
        "id": "wK9QuLiufAwZ"
      }
    },
    {
      "cell_type": "markdown",
      "source": [
        "## Ingest"
      ],
      "metadata": {
        "id": "NSOwUvV9fR0S"
      }
    },
    {
      "cell_type": "markdown",
      "source": [
        "## EDA"
      ],
      "metadata": {
        "id": "R6LMRzRxfYNc"
      }
    },
    {
      "cell_type": "code",
      "source": [],
      "metadata": {
        "id": "UcGJ0ycTferJ"
      },
      "execution_count": null,
      "outputs": []
    },
    {
      "cell_type": "markdown",
      "source": [
        "## Modelling"
      ],
      "metadata": {
        "id": "C9MpzpcAffxH"
      }
    },
    {
      "cell_type": "markdown",
      "source": [
        "### Classification Algorithm 1"
      ],
      "metadata": {
        "id": "qZjhYybwf97a"
      }
    },
    {
      "cell_type": "code",
      "source": [],
      "metadata": {
        "id": "u30ybTmQfh31"
      },
      "execution_count": null,
      "outputs": []
    },
    {
      "cell_type": "markdown",
      "source": [
        "### Classification Algorithm 2"
      ],
      "metadata": {
        "id": "ThDWuZ-XgCjK"
      }
    },
    {
      "cell_type": "markdown",
      "source": [
        "## Conclusions"
      ],
      "metadata": {
        "id": "r0dsXodefl0N"
      }
    },
    {
      "cell_type": "code",
      "source": [],
      "metadata": {
        "id": "S3wuGSdbfoK4"
      },
      "execution_count": null,
      "outputs": []
    }
  ]
}